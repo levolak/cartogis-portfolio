{
 "cells": [
  {
   "cell_type": "code",
   "execution_count": 2,
   "id": "9c2b3199-335d-47d7-8357-0568c86fd876",
   "metadata": {},
   "outputs": [
    {
     "ename": "SyntaxError",
     "evalue": "invalid syntax (3757208924.py, line 1)",
     "output_type": "error",
     "traceback": [
      "\u001b[1;36m  Cell \u001b[1;32mIn[2], line 1\u001b[1;36m\u001b[0m\n\u001b[1;33m    git add portfolio.ipynb\u001b[0m\n\u001b[1;37m        ^\u001b[0m\n\u001b[1;31mSyntaxError\u001b[0m\u001b[1;31m:\u001b[0m invalid syntax\n"
     ]
    }
   ],
   "source": [
    "git add portfolio.ipynb"
   ]
  },
  {
   "cell_type": "code",
   "execution_count": null,
   "id": "68831a9e-5e37-452c-b137-8d358df6966c",
   "metadata": {
    "tags": []
   },
   "outputs": [],
   "source": [
    "git commit -m \"Add portfolio notebook\""
   ]
  },
  {
   "cell_type": "code",
   "execution_count": null,
   "id": "609e6a42-a771-48cd-b8e7-04d9d4c6a3b4",
   "metadata": {},
   "outputs": [],
   "source": [
    "git remote add origin https://github.com/<levolak>/<https://github.com/levolak/cartogis-portfolio.git>.git"
   ]
  },
  {
   "cell_type": "code",
   "execution_count": null,
   "id": "cd9bfb4c-7726-4b80-8198-597bcc1fb4b2",
   "metadata": {},
   "outputs": [],
   "source": [
    "r"
   ]
  }
 ],
 "metadata": {
  "kernelspec": {
   "display_name": "Python 3 (ipykernel)",
   "language": "python",
   "name": "python3"
  },
  "language_info": {
   "codemirror_mode": {
    "name": "ipython",
    "version": 3
   },
   "file_extension": ".py",
   "mimetype": "text/x-python",
   "name": "python",
   "nbconvert_exporter": "python",
   "pygments_lexer": "ipython3",
   "version": "3.11.5"
  }
 },
 "nbformat": 4,
 "nbformat_minor": 5
}
