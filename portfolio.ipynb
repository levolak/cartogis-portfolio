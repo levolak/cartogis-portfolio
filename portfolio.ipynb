{
 "cells": [
  {
   "cell_type": "code",
   "execution_count": null,
   "id": "9c2b3199-335d-47d7-8357-0568c86fd876",
   "metadata": {},
   "outputs": [],
   "source": [
    "!git add portfolio.ipynb"
   ]
  },
  {
   "cell_type": "code",
   "execution_count": null,
   "id": "68831a9e-5e37-452c-b137-8d358df6966c",
   "metadata": {
    "tags": []
   },
   "outputs": [],
   "source": [
    "!git commit -m \"Add portfolio notebook\"\n"
   ]
  },
  {
   "cell_type": "code",
   "execution_count": null,
   "id": "a6c3cd69-f677-4e7c-9aa3-738ec3aab961",
   "metadata": {
    "tags": []
   },
   "outputs": [],
   "source": [
    "print(\"Cartogis portfolio of Lauri Levomäki\")"
   ]
  },
  {
   "cell_type": "markdown",
   "id": "9e097e1a-4a72-4e44-8e39-513683a54bb7",
   "metadata": {
    "tags": []
   },
   "source": [
    "TESTI TESTI TESTI"
   ]
  },
  {
   "cell_type": "code",
   "execution_count": null,
   "id": "609e6a42-a771-48cd-b8e7-04d9d4c6a3b4",
   "metadata": {},
   "outputs": [],
   "source": [
    "!git push origin main\n"
   ]
  },
  {
   "cell_type": "code",
   "execution_count": null,
   "id": "cd9bfb4c-7726-4b80-8198-597bcc1fb4b2",
   "metadata": {},
   "outputs": [],
   "source": []
  }
 ],
 "metadata": {
  "kernelspec": {
   "display_name": "Python 3 (ipykernel)",
   "language": "python",
   "name": "python3"
  },
  "language_info": {
   "codemirror_mode": {
    "name": "ipython",
    "version": 3
   },
   "file_extension": ".py",
   "mimetype": "text/x-python",
   "name": "python",
   "nbconvert_exporter": "python",
   "pygments_lexer": "ipython3",
   "version": "3.11.5"
  }
 },
 "nbformat": 4,
 "nbformat_minor": 5
}
