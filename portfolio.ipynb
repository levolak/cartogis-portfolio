{
 "cells": [
  {
   "cell_type": "code",
   "execution_count": 13,
   "id": "9c2b3199-335d-47d7-8357-0568c86fd876",
   "metadata": {},
   "outputs": [],
   "source": [
    "!git add portfolio.ipynb"
   ]
  },
  {
   "cell_type": "code",
   "execution_count": 15,
   "id": "68831a9e-5e37-452c-b137-8d358df6966c",
   "metadata": {
    "tags": []
   },
   "outputs": [
    {
     "name": "stdout",
     "output_type": "stream",
     "text": [
      "On branch main\n",
      "nothing to commit, working tree clean\n"
     ]
    }
   ],
   "source": [
    "!git commit -m \"Add portfolio notebook\"\n"
   ]
  },
  {
   "cell_type": "code",
   "execution_count": null,
   "id": "609e6a42-a771-48cd-b8e7-04d9d4c6a3b4",
   "metadata": {},
   "outputs": [],
   "source": [
    "!git push origin main\n"
   ]
  },
  {
   "cell_type": "code",
   "execution_count": null,
   "id": "cd9bfb4c-7726-4b80-8198-597bcc1fb4b2",
   "metadata": {},
   "outputs": [],
   "source": []
  }
 ],
 "metadata": {
  "kernelspec": {
   "display_name": "Python 3 (ipykernel)",
   "language": "python",
   "name": "python3"
  },
  "language_info": {
   "codemirror_mode": {
    "name": "ipython",
    "version": 3
   },
   "file_extension": ".py",
   "mimetype": "text/x-python",
   "name": "python",
   "nbconvert_exporter": "python",
   "pygments_lexer": "ipython3",
   "version": "3.11.5"
  }
 },
 "nbformat": 4,
 "nbformat_minor": 5
}
