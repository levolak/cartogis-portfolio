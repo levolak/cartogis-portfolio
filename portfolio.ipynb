{
 "cells": [
  {
   "cell_type": "code",
   "execution_count": 6,
   "id": "9c2b3199-335d-47d7-8357-0568c86fd876",
   "metadata": {},
   "outputs": [],
   "source": [
    "!git add portfolio.ipynb"
   ]
  },
  {
   "cell_type": "code",
   "execution_count": 8,
   "id": "68831a9e-5e37-452c-b137-8d358df6966c",
   "metadata": {
    "tags": []
   },
   "outputs": [
    {
     "name": "stdout",
     "output_type": "stream",
     "text": [
      "[master (root-commit) 6181d53] Add portfolio notebook\n",
      " 1 file changed, 76 insertions(+)\n",
      " create mode 100644 portfolio.ipynb\n"
     ]
    }
   ],
   "source": [
    "!git commit -m \"Add portfolio notebook\"\n"
   ]
  },
  {
   "cell_type": "code",
   "execution_count": 10,
   "id": "609e6a42-a771-48cd-b8e7-04d9d4c6a3b4",
   "metadata": {},
   "outputs": [
    {
     "name": "stderr",
     "output_type": "stream",
     "text": [
      "fatal: 'origin' does not appear to be a git repository\n",
      "fatal: Could not read from remote repository.\n",
      "\n",
      "Please make sure you have the correct access rights\n",
      "and the repository exists.\n"
     ]
    }
   ],
   "source": [
    "!git push origin master\n"
   ]
  },
  {
   "cell_type": "code",
   "execution_count": null,
   "id": "cd9bfb4c-7726-4b80-8198-597bcc1fb4b2",
   "metadata": {},
   "outputs": [],
   "source": []
  }
 ],
 "metadata": {
  "kernelspec": {
   "display_name": "Python 3 (ipykernel)",
   "language": "python",
   "name": "python3"
  },
  "language_info": {
   "codemirror_mode": {
    "name": "ipython",
    "version": 3
   },
   "file_extension": ".py",
   "mimetype": "text/x-python",
   "name": "python",
   "nbconvert_exporter": "python",
   "pygments_lexer": "ipython3",
   "version": "3.11.5"
  }
 },
 "nbformat": 4,
 "nbformat_minor": 5
}
